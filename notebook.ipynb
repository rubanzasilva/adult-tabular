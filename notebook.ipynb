{
 "cells": [
  {
   "cell_type": "markdown",
   "metadata": {},
   "source": [
    "# Fast AI with Tabular data\n",
    "\n",
    "This notebook is based on fastai's cours v3 lesson 4.  We are going to train a model that predict salary range base on the data we provided.\n",
    "\n",
    "![Impression](https://www.google-analytics.com/collect?v=1&tid=UA-112879361-3&cid=555&t=event&ec=nb&ea=open&el=gallery-example&dt=fastai-tabular-csv)"
   ]
  },
  {
   "cell_type": "code",
   "execution_count": 1,
   "metadata": {
    "scrolled": true
   },
   "outputs": [
    {
     "name": "stdout",
     "output_type": "stream",
     "text": [
      "Requirement already satisfied: fastai in /anaconda3/lib/python3.7/site-packages (1.0.55)\n",
      "Requirement already satisfied: pyyaml in /Users/mac/.local/lib/python3.7/site-packages (from fastai) (3.13)\n",
      "Requirement already satisfied: pynvx>=1.0.0; platform_system == \"Darwin\" in /anaconda3/lib/python3.7/site-packages (from fastai) (1.0.0)\n",
      "Requirement already satisfied: fastprogress>=0.1.19 in /anaconda3/lib/python3.7/site-packages (from fastai) (0.1.21)\n",
      "Requirement already satisfied: torch>=1.0.0 in /anaconda3/lib/python3.7/site-packages (from fastai) (1.1.0.post2)\n",
      "Requirement already satisfied: bottleneck in /anaconda3/lib/python3.7/site-packages (from fastai) (1.2.1)\n",
      "Requirement already satisfied: pandas in /anaconda3/lib/python3.7/site-packages (from fastai) (0.24.2)\n",
      "Requirement already satisfied: spacy>=2.0.18 in /anaconda3/lib/python3.7/site-packages (from fastai) (2.1.6)\n",
      "Requirement already satisfied: torchvision in /anaconda3/lib/python3.7/site-packages (from fastai) (0.3.0)\n",
      "Requirement already satisfied: beautifulsoup4 in /anaconda3/lib/python3.7/site-packages (from fastai) (4.7.1)\n",
      "Requirement already satisfied: matplotlib in /anaconda3/lib/python3.7/site-packages (from fastai) (3.0.3)\n",
      "Requirement already satisfied: numpy>=1.15 in /anaconda3/lib/python3.7/site-packages (from fastai) (1.16.2)\n",
      "Requirement already satisfied: requests in /Users/mac/.local/lib/python3.7/site-packages (from fastai) (2.22.0)\n",
      "Requirement already satisfied: scipy in /anaconda3/lib/python3.7/site-packages (from fastai) (1.2.1)\n",
      "Requirement already satisfied: packaging in /anaconda3/lib/python3.7/site-packages (from fastai) (19.0)\n",
      "Requirement already satisfied: Pillow in /anaconda3/lib/python3.7/site-packages (from fastai) (5.4.1)\n",
      "Requirement already satisfied: nvidia-ml-py3 in /anaconda3/lib/python3.7/site-packages (from fastai) (7.352.0)\n",
      "Requirement already satisfied: numexpr in /anaconda3/lib/python3.7/site-packages (from fastai) (2.6.9)\n",
      "Requirement already satisfied: pytz>=2011k in /anaconda3/lib/python3.7/site-packages (from pandas->fastai) (2018.9)\n",
      "Requirement already satisfied: python-dateutil>=2.5.0 in /anaconda3/lib/python3.7/site-packages (from pandas->fastai) (2.8.0)\n",
      "Requirement already satisfied: murmurhash<1.1.0,>=0.28.0 in /anaconda3/lib/python3.7/site-packages (from spacy>=2.0.18->fastai) (1.0.2)\n",
      "Requirement already satisfied: blis<0.3.0,>=0.2.2 in /anaconda3/lib/python3.7/site-packages (from spacy>=2.0.18->fastai) (0.2.4)\n",
      "Requirement already satisfied: wasabi<1.1.0,>=0.2.0 in /anaconda3/lib/python3.7/site-packages (from spacy>=2.0.18->fastai) (0.2.2)\n",
      "Requirement already satisfied: thinc<7.1.0,>=7.0.8 in /anaconda3/lib/python3.7/site-packages (from spacy>=2.0.18->fastai) (7.0.8)\n",
      "Requirement already satisfied: preshed<2.1.0,>=2.0.1 in /anaconda3/lib/python3.7/site-packages (from spacy>=2.0.18->fastai) (2.0.1)\n",
      "Requirement already satisfied: srsly<1.1.0,>=0.0.6 in /anaconda3/lib/python3.7/site-packages (from spacy>=2.0.18->fastai) (0.0.7)\n",
      "Requirement already satisfied: cymem<2.1.0,>=2.0.2 in /anaconda3/lib/python3.7/site-packages (from spacy>=2.0.18->fastai) (2.0.2)\n",
      "Requirement already satisfied: plac<1.0.0,>=0.9.6 in /anaconda3/lib/python3.7/site-packages (from spacy>=2.0.18->fastai) (0.9.6)\n",
      "Requirement already satisfied: six in /Users/mac/.local/lib/python3.7/site-packages (from torchvision->fastai) (1.11.0)\n",
      "Requirement already satisfied: soupsieve>=1.2 in /anaconda3/lib/python3.7/site-packages (from beautifulsoup4->fastai) (1.8)\n",
      "Requirement already satisfied: cycler>=0.10 in /anaconda3/lib/python3.7/site-packages (from matplotlib->fastai) (0.10.0)\n",
      "Requirement already satisfied: kiwisolver>=1.0.1 in /anaconda3/lib/python3.7/site-packages (from matplotlib->fastai) (1.0.1)\n",
      "Requirement already satisfied: pyparsing!=2.0.4,!=2.1.2,!=2.1.6,>=2.0.1 in /anaconda3/lib/python3.7/site-packages (from matplotlib->fastai) (2.3.1)\n",
      "Requirement already satisfied: urllib3!=1.25.0,!=1.25.1,<1.26,>=1.21.1 in /anaconda3/lib/python3.7/site-packages (from requests->fastai) (1.24.1)\n",
      "Requirement already satisfied: chardet<3.1.0,>=3.0.2 in /anaconda3/lib/python3.7/site-packages (from requests->fastai) (3.0.4)\n",
      "Requirement already satisfied: certifi>=2017.4.17 in /anaconda3/lib/python3.7/site-packages (from requests->fastai) (2019.3.9)\n",
      "Requirement already satisfied: idna<2.9,>=2.5 in /anaconda3/lib/python3.7/site-packages (from requests->fastai) (2.8)\n",
      "Requirement already satisfied: tqdm<5.0.0,>=4.10.0 in /anaconda3/lib/python3.7/site-packages (from thinc<7.1.0,>=7.0.8->spacy>=2.0.18->fastai) (4.31.1)\n",
      "Requirement already satisfied: setuptools in /anaconda3/lib/python3.7/site-packages (from kiwisolver>=1.0.1->matplotlib->fastai) (40.8.0)\n",
      "Requirement already satisfied: bentoml in /anaconda3/lib/python3.7/site-packages (0.2.2)\n",
      "Requirement already satisfied: requests in /Users/mac/.local/lib/python3.7/site-packages (from bentoml) (2.22.0)\n",
      "Requirement already satisfied: flask in /anaconda3/lib/python3.7/site-packages (from bentoml) (1.0.2)\n",
      "Requirement already satisfied: python-json-logger in /anaconda3/lib/python3.7/site-packages (from bentoml) (0.1.11)\n",
      "Requirement already satisfied: packaging in /anaconda3/lib/python3.7/site-packages (from bentoml) (19.0)\n",
      "Requirement already satisfied: numpy in /anaconda3/lib/python3.7/site-packages (from bentoml) (1.16.2)\n",
      "Requirement already satisfied: docker in /Users/mac/.local/lib/python3.7/site-packages (from bentoml) (3.7.3)\n",
      "Requirement already satisfied: configparser in /anaconda3/lib/python3.7/site-packages (from bentoml) (3.7.4)\n",
      "Requirement already satisfied: boto3 in /Users/mac/.local/lib/python3.7/site-packages (from bentoml) (1.9.188)\n",
      "Requirement already satisfied: ruamel.yaml>=0.15.0 in /anaconda3/lib/python3.7/site-packages (from bentoml) (0.15.99)\n",
      "Requirement already satisfied: six in /Users/mac/.local/lib/python3.7/site-packages (from bentoml) (1.11.0)\n",
      "Requirement already satisfied: click in /Users/mac/.local/lib/python3.7/site-packages (from bentoml) (6.7)\n",
      "Requirement already satisfied: dill in /anaconda3/lib/python3.7/site-packages (from bentoml) (0.3.0)\n",
      "Requirement already satisfied: pathlib2 in /anaconda3/lib/python3.7/site-packages (from bentoml) (2.3.3)\n",
      "Requirement already satisfied: gunicorn in /anaconda3/lib/python3.7/site-packages (from bentoml) (19.9.0)\n",
      "Requirement already satisfied: pandas in /anaconda3/lib/python3.7/site-packages (from bentoml) (0.24.2)\n",
      "Requirement already satisfied: prometheus-client in /anaconda3/lib/python3.7/site-packages (from bentoml) (0.6.0)\n",
      "Requirement already satisfied: idna<2.9,>=2.5 in /anaconda3/lib/python3.7/site-packages (from requests->bentoml) (2.8)\n",
      "Requirement already satisfied: certifi>=2017.4.17 in /anaconda3/lib/python3.7/site-packages (from requests->bentoml) (2019.3.9)\n",
      "Requirement already satisfied: chardet<3.1.0,>=3.0.2 in /anaconda3/lib/python3.7/site-packages (from requests->bentoml) (3.0.4)\n",
      "Requirement already satisfied: urllib3!=1.25.0,!=1.25.1,<1.26,>=1.21.1 in /anaconda3/lib/python3.7/site-packages (from requests->bentoml) (1.24.1)\n",
      "Requirement already satisfied: itsdangerous>=0.24 in /anaconda3/lib/python3.7/site-packages (from flask->bentoml) (1.1.0)\n",
      "Requirement already satisfied: Jinja2>=2.10 in /anaconda3/lib/python3.7/site-packages (from flask->bentoml) (2.10)\n",
      "Requirement already satisfied: Werkzeug>=0.14 in /anaconda3/lib/python3.7/site-packages (from flask->bentoml) (0.14.1)\n",
      "Requirement already satisfied: pyparsing>=2.0.2 in /anaconda3/lib/python3.7/site-packages (from packaging->bentoml) (2.3.1)\n",
      "Requirement already satisfied: websocket-client>=0.32.0 in /Users/mac/.local/lib/python3.7/site-packages (from docker->bentoml) (0.56.0)\n",
      "Requirement already satisfied: docker-pycreds>=0.4.0 in /Users/mac/.local/lib/python3.7/site-packages (from docker->bentoml) (0.4.0)\n",
      "Requirement already satisfied: jmespath<1.0.0,>=0.7.1 in /Users/mac/.local/lib/python3.7/site-packages (from boto3->bentoml) (0.9.4)\n",
      "Requirement already satisfied: botocore<1.13.0,>=1.12.188 in /Users/mac/.local/lib/python3.7/site-packages (from boto3->bentoml) (1.12.188)\n",
      "Requirement already satisfied: s3transfer<0.3.0,>=0.2.0 in /Users/mac/.local/lib/python3.7/site-packages (from boto3->bentoml) (0.2.1)\n",
      "Requirement already satisfied: python-dateutil>=2.5.0 in /anaconda3/lib/python3.7/site-packages (from pandas->bentoml) (2.8.0)\n",
      "Requirement already satisfied: pytz>=2011k in /anaconda3/lib/python3.7/site-packages (from pandas->bentoml) (2018.9)\n",
      "Requirement already satisfied: MarkupSafe>=0.23 in /anaconda3/lib/python3.7/site-packages (from Jinja2>=2.10->flask->bentoml) (1.1.1)\n"
     ]
    },
    {
     "name": "stdout",
     "output_type": "stream",
     "text": [
      "Requirement already satisfied: docutils>=0.10 in /anaconda3/lib/python3.7/site-packages (from botocore<1.13.0,>=1.12.188->boto3->bentoml) (0.14)\r\n"
     ]
    }
   ],
   "source": [
    "!pip install fastai\n",
    "!pip install bentoml"
   ]
  },
  {
   "cell_type": "code",
   "execution_count": 2,
   "metadata": {},
   "outputs": [],
   "source": [
    "from fastai.tabular import *"
   ]
  },
  {
   "cell_type": "code",
   "execution_count": 8,
   "metadata": {},
   "outputs": [
    {
     "name": "stdout",
     "output_type": "stream",
     "text": [
      "\u001b[31madult.csv\u001b[m\u001b[m\r\n"
     ]
    }
   ],
   "source": [
    "!ls data"
   ]
  },
  {
   "cell_type": "code",
   "execution_count": 7,
   "metadata": {},
   "outputs": [],
   "source": [
    "PATH=Path('data/')"
   ]
  },
  {
   "cell_type": "code",
   "execution_count": 9,
   "metadata": {},
   "outputs": [],
   "source": [
    "df = pd.read_csv(PATH/'adult.csv')"
   ]
  },
  {
   "cell_type": "code",
   "execution_count": 10,
   "metadata": {},
   "outputs": [],
   "source": [
    "dep_var = 'salary'\n",
    "cat_names = ['workclass', 'education', 'marital-status', 'occupation', 'relationship', 'race']\n",
    "cont_names = ['age', 'fnlwgt', 'education-num']\n",
    "procs = [FillMissing, Categorify, Normalize]"
   ]
  },
  {
   "cell_type": "code",
   "execution_count": 12,
   "metadata": {},
   "outputs": [],
   "source": [
    "test = TabularList.from_df(df.iloc[800:1000].copy(), path=PATH, cat_names=cat_names, cont_names=cont_names)"
   ]
  },
  {
   "cell_type": "code",
   "execution_count": 13,
   "metadata": {},
   "outputs": [],
   "source": [
    "data = (TabularList.from_df(df, path=PATH, cat_names=cat_names, cont_names=cont_names, procs=procs)\n",
    "                           .split_by_idx(list(range(800,1000)))\n",
    "                           .label_from_df(cols=dep_var)\n",
    "                           .add_test(test)\n",
    "                           .databunch())"
   ]
  },
  {
   "cell_type": "code",
   "execution_count": 14,
   "metadata": {},
   "outputs": [
    {
     "data": {
      "text/html": [
       "<table border=\"1\" class=\"dataframe\">\n",
       "  <thead>\n",
       "    <tr style=\"text-align: right;\">\n",
       "      <th>workclass</th>\n",
       "      <th>education</th>\n",
       "      <th>marital-status</th>\n",
       "      <th>occupation</th>\n",
       "      <th>relationship</th>\n",
       "      <th>race</th>\n",
       "      <th>education-num_na</th>\n",
       "      <th>age</th>\n",
       "      <th>fnlwgt</th>\n",
       "      <th>education-num</th>\n",
       "      <th>target</th>\n",
       "    </tr>\n",
       "  </thead>\n",
       "  <tbody>\n",
       "    <tr>\n",
       "      <td>Private</td>\n",
       "      <td>Bachelors</td>\n",
       "      <td>Never-married</td>\n",
       "      <td>Prof-specialty</td>\n",
       "      <td>Own-child</td>\n",
       "      <td>White</td>\n",
       "      <td>False</td>\n",
       "      <td>-1.1425</td>\n",
       "      <td>0.1197</td>\n",
       "      <td>1.1422</td>\n",
       "      <td>&lt;50k</td>\n",
       "    </tr>\n",
       "    <tr>\n",
       "      <td>Private</td>\n",
       "      <td>Some-college</td>\n",
       "      <td>Never-married</td>\n",
       "      <td>Sales</td>\n",
       "      <td>Not-in-family</td>\n",
       "      <td>White</td>\n",
       "      <td>False</td>\n",
       "      <td>-1.1425</td>\n",
       "      <td>0.0429</td>\n",
       "      <td>-0.0312</td>\n",
       "      <td>&lt;50k</td>\n",
       "    </tr>\n",
       "    <tr>\n",
       "      <td>Private</td>\n",
       "      <td>5th-6th</td>\n",
       "      <td>Never-married</td>\n",
       "      <td>Sales</td>\n",
       "      <td>Own-child</td>\n",
       "      <td>Asian-Pac-Islander</td>\n",
       "      <td>False</td>\n",
       "      <td>-0.8493</td>\n",
       "      <td>-0.7499</td>\n",
       "      <td>-2.7692</td>\n",
       "      <td>&lt;50k</td>\n",
       "    </tr>\n",
       "    <tr>\n",
       "      <td>Local-gov</td>\n",
       "      <td>Assoc-acdm</td>\n",
       "      <td>Married-civ-spouse</td>\n",
       "      <td>Tech-support</td>\n",
       "      <td>Husband</td>\n",
       "      <td>White</td>\n",
       "      <td>False</td>\n",
       "      <td>0.3235</td>\n",
       "      <td>-1.4390</td>\n",
       "      <td>0.7511</td>\n",
       "      <td>&lt;50k</td>\n",
       "    </tr>\n",
       "    <tr>\n",
       "      <td>Private</td>\n",
       "      <td>Masters</td>\n",
       "      <td>Married-civ-spouse</td>\n",
       "      <td>Sales</td>\n",
       "      <td>Husband</td>\n",
       "      <td>White</td>\n",
       "      <td>False</td>\n",
       "      <td>1.2030</td>\n",
       "      <td>-0.0404</td>\n",
       "      <td>1.5334</td>\n",
       "      <td>&gt;=50k</td>\n",
       "    </tr>\n",
       "    <tr>\n",
       "      <td>Self-emp-inc</td>\n",
       "      <td>Masters</td>\n",
       "      <td>Married-civ-spouse</td>\n",
       "      <td>Sales</td>\n",
       "      <td>Husband</td>\n",
       "      <td>White</td>\n",
       "      <td>False</td>\n",
       "      <td>0.8365</td>\n",
       "      <td>0.4802</td>\n",
       "      <td>1.5334</td>\n",
       "      <td>&gt;=50k</td>\n",
       "    </tr>\n",
       "    <tr>\n",
       "      <td>Private</td>\n",
       "      <td>10th</td>\n",
       "      <td>Never-married</td>\n",
       "      <td>#na#</td>\n",
       "      <td>Own-child</td>\n",
       "      <td>White</td>\n",
       "      <td>True</td>\n",
       "      <td>-1.5823</td>\n",
       "      <td>0.9933</td>\n",
       "      <td>-0.0312</td>\n",
       "      <td>&lt;50k</td>\n",
       "    </tr>\n",
       "    <tr>\n",
       "      <td>State-gov</td>\n",
       "      <td>Bachelors</td>\n",
       "      <td>Married-civ-spouse</td>\n",
       "      <td>Protective-serv</td>\n",
       "      <td>Husband</td>\n",
       "      <td>White</td>\n",
       "      <td>False</td>\n",
       "      <td>-0.9959</td>\n",
       "      <td>0.6916</td>\n",
       "      <td>1.1422</td>\n",
       "      <td>&gt;=50k</td>\n",
       "    </tr>\n",
       "    <tr>\n",
       "      <td>Private</td>\n",
       "      <td>Some-college</td>\n",
       "      <td>Never-married</td>\n",
       "      <td>Adm-clerical</td>\n",
       "      <td>Own-child</td>\n",
       "      <td>White</td>\n",
       "      <td>False</td>\n",
       "      <td>-1.3624</td>\n",
       "      <td>1.6801</td>\n",
       "      <td>-0.0312</td>\n",
       "      <td>&lt;50k</td>\n",
       "    </tr>\n",
       "    <tr>\n",
       "      <td>Private</td>\n",
       "      <td>HS-grad</td>\n",
       "      <td>Divorced</td>\n",
       "      <td>Other-service</td>\n",
       "      <td>Unmarried</td>\n",
       "      <td>White</td>\n",
       "      <td>False</td>\n",
       "      <td>-0.4095</td>\n",
       "      <td>-0.0657</td>\n",
       "      <td>-0.4224</td>\n",
       "      <td>&lt;50k</td>\n",
       "    </tr>\n",
       "  </tbody>\n",
       "</table>"
      ],
      "text/plain": [
       "<IPython.core.display.HTML object>"
      ]
     },
     "metadata": {},
     "output_type": "display_data"
    }
   ],
   "source": [
    "data.show_batch(rows=10)"
   ]
  },
  {
   "cell_type": "code",
   "execution_count": 15,
   "metadata": {},
   "outputs": [],
   "source": [
    "learn = tabular_learner(data, layers=[200,100], metrics=accuracy)"
   ]
  },
  {
   "cell_type": "code",
   "execution_count": 16,
   "metadata": {},
   "outputs": [
    {
     "data": {
      "text/html": [
       "<table border=\"1\" class=\"dataframe\">\n",
       "  <thead>\n",
       "    <tr style=\"text-align: left;\">\n",
       "      <th>epoch</th>\n",
       "      <th>train_loss</th>\n",
       "      <th>valid_loss</th>\n",
       "      <th>accuracy</th>\n",
       "      <th>time</th>\n",
       "    </tr>\n",
       "  </thead>\n",
       "  <tbody>\n",
       "    <tr>\n",
       "      <td>0</td>\n",
       "      <td>0.355843</td>\n",
       "      <td>0.371649</td>\n",
       "      <td>0.840000</td>\n",
       "      <td>00:08</td>\n",
       "    </tr>\n",
       "  </tbody>\n",
       "</table>"
      ],
      "text/plain": [
       "<IPython.core.display.HTML object>"
      ]
     },
     "metadata": {},
     "output_type": "display_data"
    }
   ],
   "source": [
    "learn.fit(1, 1e-2)"
   ]
  },
  {
   "cell_type": "code",
   "execution_count": 17,
   "metadata": {},
   "outputs": [],
   "source": [
    "row = df.iloc[0]"
   ]
  },
  {
   "cell_type": "code",
   "execution_count": 18,
   "metadata": {},
   "outputs": [
    {
     "data": {
      "text/plain": [
       "(Category >=50k, tensor(1), tensor([0.2998, 0.7002]))"
      ]
     },
     "execution_count": 18,
     "metadata": {},
     "output_type": "execute_result"
    }
   ],
   "source": [
    "learn.predict(row)"
   ]
  },
  {
   "cell_type": "markdown",
   "metadata": {},
   "source": [
    "# Save model as machine learning service with BentoML"
   ]
  },
  {
   "cell_type": "code",
   "execution_count": 19,
   "metadata": {},
   "outputs": [
    {
     "name": "stdout",
     "output_type": "stream",
     "text": [
      "Overwriting tabular_csv.py\n"
     ]
    }
   ],
   "source": [
    "%%writefile tabular_csv.py\n",
    "\n",
    "from bentoml import env, api, artifacts, BentoService\n",
    "from bentoml.artifact import FastaiModelArtifact\n",
    "from bentoml.handlers import DataframeHandler\n",
    "\n",
    "\n",
    "@env(conda_environment=['fastai'])\n",
    "@artifacts([FastaiModelArtifact('model')])\n",
    "class TabularModel(BentoService):\n",
    "    \n",
    "    @api(DataframeHandler)\n",
    "    def predict(self, df):\n",
    "        result = []\n",
    "        for index, row in df.iterrows():            \n",
    "            result.append(self.artifacts.model.predict(row))\n",
    "        return str(result)"
   ]
  },
  {
   "cell_type": "code",
   "execution_count": 20,
   "metadata": {},
   "outputs": [
    {
     "name": "stdout",
     "output_type": "stream",
     "text": [
      "[2019-07-20 17:58:07,258] INFO - Searching for dependant modules of tabular_csv:/Users/mac/Desktop/tabular-csv/tabular_csv.py\n",
      "[2019-07-20 17:58:29,658] INFO - Copying local python module '/Users/mac/Desktop/tabular-csv/tabular_csv.py'\n",
      "[2019-07-20 17:58:29,661] INFO - Done copying local python dependant modules\n",
      "[2019-07-20 17:58:29,841] INFO - BentoService TabularModel:2019_07_20_4a68a58f saved to /tmp/bento_archive/TabularModel/2019_07_20_4a68a58f\n",
      "/tmp/bento_archive/TabularModel/2019_07_20_4a68a58f\n"
     ]
    }
   ],
   "source": [
    "from tabular_csv import TabularModel\n",
    "\n",
    "svc = TabularModel.pack(model=learn)\n",
    "saved_path = svc.save('/tmp/bento_archive')\n",
    "print(saved_path)"
   ]
  },
  {
   "cell_type": "markdown",
   "metadata": {},
   "source": [
    "## Use BentoML Archive as CLI TOOL"
   ]
  },
  {
   "cell_type": "code",
   "execution_count": 21,
   "metadata": {},
   "outputs": [
    {
     "name": "stdout",
     "output_type": "stream",
     "text": [
      "Processing /tmp/bento_archive/TabularModel/2019_07_20_4a68a58f\n",
      "Building wheels for collected packages: TabularModel\n",
      "  Building wheel for TabularModel (setup.py) ... \u001b[?25ldone\n",
      "\u001b[?25h  Stored in directory: /private/var/folders/lb/vtg9bbk1379_rzkczkzlxc0w0000gn/T/pip-ephem-wheel-cache-x6o8666t/wheels/3f/60/98/c6c581599d32df948b246a21db5037058fe81d21a8d434e153\n",
      "Successfully built TabularModel\n",
      "Installing collected packages: TabularModel\n",
      "  Found existing installation: TabularModel 2019-07-20-bf8e13bf\n",
      "    Uninstalling TabularModel-2019-07-20-bf8e13bf:\n",
      "      Successfully uninstalled TabularModel-2019-07-20-bf8e13bf\n",
      "Successfully installed TabularModel-2019-07-20-4a68a58f\n"
     ]
    }
   ],
   "source": [
    "!pip install {saved_path}"
   ]
  },
  {
   "cell_type": "code",
   "execution_count": 22,
   "metadata": {},
   "outputs": [
    {
     "name": "stdout",
     "output_type": "stream",
     "text": [
      "[(Category <50k, tensor(0), tensor([0.7044, 0.2956]))]\r\n"
     ]
    }
   ],
   "source": [
    "# Use json data\n",
    "!TabularModel predict --input=test.json"
   ]
  },
  {
   "cell_type": "code",
   "execution_count": 23,
   "metadata": {},
   "outputs": [
    {
     "name": "stdout",
     "output_type": "stream",
     "text": [
      "[(Category >=50k, tensor(1), tensor([0.2998, 0.7002]))]\r\n"
     ]
    }
   ],
   "source": [
    "# Use CSV data\n",
    "!TabularModel predict --input=test.csv"
   ]
  },
  {
   "cell_type": "markdown",
   "metadata": {},
   "source": [
    "## Use it as REST API server\n",
    "\n",
    "\n",
    "*Note: Running as local rest api server does not work with Google Colab, please copy this notebook to run it locally*"
   ]
  },
  {
   "cell_type": "code",
   "execution_count": 24,
   "metadata": {},
   "outputs": [
    {
     "name": "stdout",
     "output_type": "stream",
     "text": [
      " * Serving Flask app \"TabularModel\" (lazy loading)\n",
      " * Environment: production\n",
      "\u001b[31m   WARNING: Do not use the development server in a production environment.\u001b[0m\n",
      "\u001b[2m   Use a production WSGI server instead.\u001b[0m\n",
      " * Debug mode: off\n",
      " * Running on http://127.0.0.1:5000/ (Press CTRL+C to quit)\n",
      "127.0.0.1 - - [20/Jul/2019 17:59:11] \"GET / HTTP/1.1\" 200 -\n",
      "127.0.0.1 - - [20/Jul/2019 17:59:13] \"GET /docs.json HTTP/1.1\" 200 -\n",
      "127.0.0.1 - - [20/Jul/2019 17:59:21] \"POST /predict HTTP/1.1\" 200 -\n",
      "[2019-07-20 18:00:15,596] ERROR in app: Exception on /predict [POST]\n",
      "Traceback (most recent call last):\n",
      "  File \"/anaconda3/lib/python3.7/site-packages/flask/app.py\", line 2292, in wsgi_app\n",
      "    response = self.full_dispatch_request()\n",
      "  File \"/anaconda3/lib/python3.7/site-packages/flask/app.py\", line 1815, in full_dispatch_request\n",
      "    rv = self.handle_user_exception(e)\n",
      "  File \"/anaconda3/lib/python3.7/site-packages/flask/app.py\", line 1718, in handle_user_exception\n",
      "    reraise(exc_type, exc_value, tb)\n",
      "  File \"/anaconda3/lib/python3.7/site-packages/flask/_compat.py\", line 35, in reraise\n",
      "    raise value\n",
      "  File \"/anaconda3/lib/python3.7/site-packages/flask/app.py\", line 1813, in full_dispatch_request\n",
      "    rv = self.dispatch_request()\n",
      "  File \"/anaconda3/lib/python3.7/site-packages/flask/app.py\", line 1799, in dispatch_request\n",
      "    return self.view_functions[rule.endpoint](**req.view_args)\n",
      "  File \"/anaconda3/lib/python3.7/site-packages/bentoml/server/bento_api_server.py\", line 202, in wrapper\n",
      "    response = api.handle_request(request)\n",
      "  File \"/anaconda3/lib/python3.7/site-packages/bentoml/service.py\", line 100, in handle_request\n",
      "    return self.handler.handle_request(request, self.func)\n",
      "  File \"/anaconda3/lib/python3.7/site-packages/bentoml/handlers/dataframe_handler.py\", line 112, in handle_request\n",
      "    request.data.decode(\"utf-8\"), orient=orient, typ=self.typ, dtype=False\n",
      "  File \"/anaconda3/lib/python3.7/site-packages/pandas/io/json/json.py\", line 427, in read_json\n",
      "    result = json_reader.read()\n",
      "  File \"/anaconda3/lib/python3.7/site-packages/pandas/io/json/json.py\", line 537, in read\n",
      "    obj = self._get_object_parser(self.data)\n",
      "  File \"/anaconda3/lib/python3.7/site-packages/pandas/io/json/json.py\", line 556, in _get_object_parser\n",
      "    obj = FrameParser(json, **kwargs).parse()\n",
      "  File \"/anaconda3/lib/python3.7/site-packages/pandas/io/json/json.py\", line 652, in parse\n",
      "    self._parse_no_numpy()\n",
      "  File \"/anaconda3/lib/python3.7/site-packages/pandas/io/json/json.py\", line 885, in _parse_no_numpy\n",
      "    loads(json, precise_float=self.precise_float), dtype=None)\n",
      "ValueError: Expected object or value\n",
      "127.0.0.1 - - [20/Jul/2019 18:00:15] \"POST /predict HTTP/1.1\" 500 -\n",
      "[2019-07-20 18:00:29,577] ERROR in app: Exception on /predict [POST]\n",
      "Traceback (most recent call last):\n",
      "  File \"/anaconda3/lib/python3.7/site-packages/flask/app.py\", line 2292, in wsgi_app\n",
      "    response = self.full_dispatch_request()\n",
      "  File \"/anaconda3/lib/python3.7/site-packages/flask/app.py\", line 1815, in full_dispatch_request\n",
      "    rv = self.handle_user_exception(e)\n",
      "  File \"/anaconda3/lib/python3.7/site-packages/flask/app.py\", line 1718, in handle_user_exception\n",
      "    reraise(exc_type, exc_value, tb)\n",
      "  File \"/anaconda3/lib/python3.7/site-packages/flask/_compat.py\", line 35, in reraise\n",
      "    raise value\n",
      "  File \"/anaconda3/lib/python3.7/site-packages/flask/app.py\", line 1813, in full_dispatch_request\n",
      "    rv = self.dispatch_request()\n",
      "  File \"/anaconda3/lib/python3.7/site-packages/flask/app.py\", line 1799, in dispatch_request\n",
      "    return self.view_functions[rule.endpoint](**req.view_args)\n",
      "  File \"/anaconda3/lib/python3.7/site-packages/bentoml/server/bento_api_server.py\", line 202, in wrapper\n",
      "    response = api.handle_request(request)\n",
      "  File \"/anaconda3/lib/python3.7/site-packages/bentoml/service.py\", line 100, in handle_request\n",
      "    return self.handler.handle_request(request, self.func)\n",
      "  File \"/anaconda3/lib/python3.7/site-packages/bentoml/handlers/dataframe_handler.py\", line 112, in handle_request\n",
      "    request.data.decode(\"utf-8\"), orient=orient, typ=self.typ, dtype=False\n",
      "  File \"/anaconda3/lib/python3.7/site-packages/pandas/io/json/json.py\", line 427, in read_json\n",
      "    result = json_reader.read()\n",
      "  File \"/anaconda3/lib/python3.7/site-packages/pandas/io/json/json.py\", line 537, in read\n",
      "    obj = self._get_object_parser(self.data)\n",
      "  File \"/anaconda3/lib/python3.7/site-packages/pandas/io/json/json.py\", line 556, in _get_object_parser\n",
      "    obj = FrameParser(json, **kwargs).parse()\n",
      "  File \"/anaconda3/lib/python3.7/site-packages/pandas/io/json/json.py\", line 652, in parse\n",
      "    self._parse_no_numpy()\n",
      "  File \"/anaconda3/lib/python3.7/site-packages/pandas/io/json/json.py\", line 885, in _parse_no_numpy\n",
      "    loads(json, precise_float=self.precise_float), dtype=None)\n",
      "ValueError: Expected object or value\n",
      "127.0.0.1 - - [20/Jul/2019 18:00:29] \"POST /predict HTTP/1.1\" 500 -\n",
      "^C\n"
     ]
    }
   ],
   "source": [
    "!bentoml serve {saved_path}"
   ]
  },
  {
   "cell_type": "markdown",
   "metadata": {},
   "source": [
    "## Make request to REST API server\n",
    "\n",
    "#### Post as JSON\n",
    "\n",
    "```bash\n",
    "curl -X POST \\\n",
    "  http://localhost:5000/predict \\\n",
    "  -H 'Content-Type: application/json' \\\n",
    "  -d '[{\n",
    "  \"age\": 49,\n",
    "  \"workclass\": \"Private\",\n",
    "  \"fnlwgt\": 101320,\n",
    "  \"education\": \"Assoc-acdm\",\n",
    "  \"education-num\": 12.0,\n",
    "  \"marital-status\": \"Married-civ-spouse\",\n",
    "  \"occupation\": \"\",\n",
    "  \"relationship\": \"Wift\",\n",
    "  \"race\": \"White\",\n",
    "  \"sex\": \"Female\",\n",
    "  \"capital-gain\": 0,\n",
    "  \"capital-loss\": 1902,\n",
    "  \"hours-per-week\": 40,\n",
    "  \"native-country\": \"United-States\",\n",
    "  \"salary\": \">=50k\"\n",
    "}]'\n",
    "```\n",
    "\n",
    "#### Post as CSV\n",
    "\n",
    "```bash\n",
    "curl -X POST \\\n",
    "  http://localhost:5000/predict \\\n",
    "  -H 'Content-Type: text/csv' \\\n",
    "  -d 'age,workclass,fnlwgt,education,education-num,marital-status,occupation,relationship,race,sex,capital-gain,capital-loss,hours-per-week,native-country,salary\n",
    "49, Private,101320, Assoc-acdm,12.0, Married-civ-spouse,, Wife, White, Female,0,1902,40, United-States,>=50k'\n",
    "```"
   ]
  },
  {
   "cell_type": "code",
   "execution_count": null,
   "metadata": {},
   "outputs": [],
   "source": []
  }
 ],
 "metadata": {
  "kernelspec": {
   "display_name": "Python 3",
   "language": "python",
   "name": "python3"
  },
  "language_info": {
   "codemirror_mode": {
    "name": "ipython",
    "version": 3
   },
   "file_extension": ".py",
   "mimetype": "text/x-python",
   "name": "python",
   "nbconvert_exporter": "python",
   "pygments_lexer": "ipython3",
   "version": "3.7.3"
  }
 },
 "nbformat": 4,
 "nbformat_minor": 2
}
